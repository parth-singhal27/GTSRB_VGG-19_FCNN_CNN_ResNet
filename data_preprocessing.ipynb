{
  "nbformat": 4,
  "nbformat_minor": 0,
  "metadata": {
    "colab": {
      "name": "data_preprocessing.ipynb",
      "provenance": []
    },
    "kernelspec": {
      "name": "python3",
      "display_name": "Python 3"
    },
    "language_info": {
      "name": "python"
    }
  },
  "cells": [
    {
      "cell_type": "code",
      "metadata": {
        "id": "FwDZun-5WuLh"
      },
      "source": [
        "import os\n",
        "import cv2\n",
        "import csv\n",
        "import numpy as np\n",
        "from time import time\n",
        "import matplotlib.pyplot as plt\n",
        "import pandas as pd\n",
        "import pickle\n",
        "%matplotlib inline"
      ],
      "execution_count": null,
      "outputs": []
    },
    {
      "cell_type": "code",
      "metadata": {
        "id": "fXby26yJWvNt"
      },
      "source": [
        "dir = '.'\n",
        "    \n",
        "plt.figure(figsize=(10, 10))\n",
        "for i in range (0,43):\n",
        "    plt.subplot(7,7,i+1)\n",
        "    plt.xticks([])\n",
        "    plt.yticks([])\n",
        "    plt.grid(False)\n",
        "    path = dir + \"/Meta/{0}.png\".format(i)\n",
        "    img = plt.imread(path)\n",
        "    plt.imshow(img)\n",
        "    plt.xlabel(i)"
      ],
      "execution_count": null,
      "outputs": []
    },
    {
      "cell_type": "code",
      "metadata": {
        "id": "ZJiWLkrCWxwj"
      },
      "source": [
        "def preprocess(image, out_side):\n",
        "    height, width = image.shape[:2]\n",
        "    scale = out_side / max(height, width)\n",
        "    dx = (out_side - scale * width) / 2\n",
        "    dy = (out_side - scale * height) / 2\n",
        "    trans = np.array([[scale, 0, dx], [0, scale, dy]], dtype=np.float32)\n",
        "    image = cv2.warpAffine(image, trans, (out_side, out_side), flags=cv2.INTER_AREA)\n",
        "    image = cv2.resize(image, (out_side, out_side))\n",
        "    return image\n",
        "\n",
        "def mixing(images, labels):\n",
        "    images = np.array(images)\n",
        "    labels = np.array(labels)\n",
        "    s = np.arange(images.shape[0])\n",
        "    np.random.seed(43)\n",
        "    np.random.shuffle(s)\n",
        "    images=images[s]\n",
        "    labels=labels[s]\n",
        "    return images, labels\n",
        "\n",
        "def load_train(path, out_side):\n",
        "    images = []\n",
        "    labels = []\n",
        "    for folder in os.listdir(os.path.join(path, 'Train')):\n",
        "        cur_path = os.path.join(path, 'Train/', folder)\n",
        "        if cur_path == './Train/.DS_Store':\n",
        "          continue\n",
        "        for file_name in os.listdir(cur_path):\n",
        "            image = cv2.imread(os.path.join(cur_path, file_name))\n",
        "            images.append(preprocess(image, out_side))\n",
        "            labels.append(int(folder))\n",
        "\n",
        "    return mixing(images, labels)\n",
        "\n",
        "def load_test(path, out_side):\n",
        "    images = []\n",
        "    labels = []\n",
        "    with open(os.path.join(path, 'Test.csv'), 'r') as f:\n",
        "        reader = csv.reader(f)\n",
        "        for rows in reader:\n",
        "            name = rows[7]\n",
        "            if (name == 'Path'):\n",
        "                continue\n",
        "            image = cv2.imread(os.path.join(path, rows[7]))\n",
        "            images.append(preprocess(image, out_side))\n",
        "            labels.append(int(rows[6]))\n",
        "\n",
        "    return mixing(images, labels)"
      ],
      "execution_count": null,
      "outputs": []
    },
    {
      "cell_type": "code",
      "metadata": {
        "id": "hqnwcEPUW6xT"
      },
      "source": [
        "start = time()\n",
        "\n",
        "train_images, train_labels = load_train(dir + \"/\", 50)\n",
        "test_images, test_labels = load_test(dir + \"/\", 50)\n",
        "shape = train_images[0].shape\n",
        "print(shape)\n",
        "\n",
        "train_images = train_images.astype('float32') / 255.\n",
        "test_images = test_images.astype('float32') / 255.\n",
        "\n",
        "train_labels = utils.to_categorical(train_labels, 43)\n",
        "test_labels = utils.to_categorical(test_labels, 43)\n",
        "\n",
        "print('Loading: ', time() - start)"
      ],
      "execution_count": null,
      "outputs": []
    },
    {
      "cell_type": "code",
      "metadata": {
        "id": "IyeYaJGzW65Q"
      },
      "source": [
        "data_dic = {}\n",
        "for folder in os.listdir(dir + '/Train'):\n",
        "  if folder == '.DS_Store':\n",
        "    continue\n",
        "  data_dic[folder] = len(os.listdir(dir + '/Train/' + folder))\n",
        "\n",
        "data_df= pd.Series(data_dic)\n",
        "plt.figure(figsize = (15, 6))\n",
        "data_df.sort_values().plot(kind = 'bar')\n",
        "plt.xlabel('Classes')\n",
        "plt.ylabel('Number of images')"
      ],
      "execution_count": null,
      "outputs": []
    },
    {
      "cell_type": "code",
      "metadata": {
        "id": "hjCiSEezXBsv"
      },
      "source": [
        "with open(\"train_labels\", 'wb') as f:\n",
        "    pickle.dump(train_labels, f)\n",
        "\n",
        "with open(\"test_images\", 'wb') as f:\n",
        "    pickle.dump(test_images, f)\n",
        "\n",
        "with open(\"test_labels\", 'wb') as f:\n",
        "    pickle.dump(test_labels, f)\n",
        "\n",
        "with open(\"train_images\", 'wb') as f:\n",
        "    pickle.dump(train_images, f)"
      ],
      "execution_count": null,
      "outputs": []
    }
  ]
}