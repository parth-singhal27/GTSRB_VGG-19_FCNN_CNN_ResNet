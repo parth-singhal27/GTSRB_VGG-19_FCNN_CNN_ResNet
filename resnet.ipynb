{
  "nbformat": 4,
  "nbformat_minor": 0,
  "metadata": {
    "colab": {
      "name": "resnet.ipynb",
      "provenance": [],
      "collapsed_sections": []
    },
    "kernelspec": {
      "name": "python3",
      "display_name": "Python 3"
    },
    "language_info": {
      "name": "python"
    }
  },
  "cells": [
    {
      "cell_type": "code",
      "metadata": {
        "id": "23RN29yQYApi"
      },
      "source": [
        "from time import time\n",
        "from tensorflow.keras.models import Sequential\n",
        "import matplotlib.pyplot as plt\n",
        "from keras.layers import Activation, Flatten\n",
        "from keras.engine.topology import Layer\n",
        "from keras.layers.convolutional import Convolution2D\n",
        "from keras.layers.convolutional import MaxPooling2D\n",
        "from keras.layers.core import Dense\n",
        "from keras.optimizers import SGD\n",
        "import visualkeras\n",
        "import pickle\n",
        "%matplotlib inline"
      ],
      "execution_count": null,
      "outputs": []
    },
    {
      "cell_type": "code",
      "metadata": {
        "id": "4mDHI8Iqamkj"
      },
      "source": [
        "with open('test_images', 'rb') as f:\n",
        "    test_images = pickle.load(f)\n",
        "\n",
        "with open('train_images', 'rb') as f:\n",
        "    train_images = pickle.load(f)\n",
        "\n",
        "with open('test_labels', 'rb') as f:\n",
        "    test_labels = pickle.load(f)\n",
        "\n",
        "with open('train_labels', 'rb') as f:\n",
        "    train_labels = pickle.load(f)"
      ],
      "execution_count": null,
      "outputs": []
    },
    {
      "cell_type": "code",
      "metadata": {
        "id": "Fz73j9OTamsb"
      },
      "source": [
        "model = Sequential()\n",
        "model.add(Conv2D(256, (3, 3), padding='same', input_shape=(50, 50, 3), activation='tanh'))\n",
        "model.add(Activation(activation = \"relu\"))\n",
        "model.add(MaxPooling2D(pool_size = (2, 2),strides =  (2, 2)))\n",
        "model.add(Convolution2D(filters = 50,kernel_size = (5, 5),padding = \"same\"))\n",
        "model.add(Activation(activation = \"relu\"))\n",
        "model.add(MaxPooling2D(pool_size = (2, 2),strides = (2, 2)))\n",
        "model.add(Flatten())\n",
        "model.add(Dense(500))\n",
        "model.add(Activation(activation = \"relu\"))\n",
        "model.add(Dense(256, activation='sigmoid'))\n",
        "model.add(Dense(43, activation='softmax'))"
      ],
      "execution_count": null,
      "outputs": []
    },
    {
      "cell_type": "code",
      "metadata": {
        "id": "ja9hnOxFam2z"
      },
      "source": [
        "def results(model):\n",
        "\n",
        "  model.compile(loss = \"categorical_crossentropy\", optimizer = SGD(lr = 0.01),metrics = [\"accuracy\"])\n",
        "\n",
        "  start = time()\n",
        "  history = model.fit(train_images, train_labels, batch_size=128, epochs = 55, verbose = 1, validation_split=0.2, shuffle = True)\n",
        "  train_time = time() - start\n",
        "\n",
        "  model.summary()\n",
        "\n",
        "  plt.figure(figsize=(12, 12))\n",
        "  plt.subplot(3, 2, 1)\n",
        "  plt.plot(history.history['accuracy'], label = 'train_accuracy')\n",
        "  plt.plot(history.history['val_accuracy'], label = 'val_accuracy')\n",
        "  plt.xlabel('epoch')\n",
        "  plt.ylabel('accuracy')\n",
        "  plt.legend()\n",
        "  plt.subplot(3, 2, 2)\n",
        "  plt.plot(history.history['loss'], label = 'train_loss')\n",
        "  plt.plot(history.history['val_loss'], label = 'val_loss')\n",
        "  plt.xlabel('epoch')\n",
        "  plt.ylabel('accuracy')\n",
        "  plt.legend()\n",
        "  plt.show()\n",
        "\n",
        "  start = time()\n",
        "  test_loss, test_acc = model.evaluate(test_images, test_labels)\n",
        "  test_time = time() - start\n",
        "  print('\\nTrain time: ', train_time)\n",
        "  print('Test accuracy:', test_acc)\n",
        "  print('Test loss:', test_loss)\n",
        "  print('Test time: ', test_time)\n",
        "\n",
        "results(model)\n",
        "\n",
        "model.save('resnet.h5')"
      ],
      "execution_count": null,
      "outputs": []
    }
  ]
}